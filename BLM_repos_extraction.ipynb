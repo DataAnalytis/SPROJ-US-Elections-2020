{
 "cells": [
  {
   "cell_type": "code",
   "execution_count": null,
   "metadata": {},
   "outputs": [],
   "source": [
    "# Developed by Humza, Afnan and Saad\n",
    "import pandas as pd\n",
    "import os\n",
    "import glob\n",
    "\n",
    "path = os.getcwd() + \"\\\\BLM\\\\\"\n",
    "path"
   ]
  },
  {
   "cell_type": "code",
   "execution_count": null,
   "metadata": {},
   "outputs": [],
   "source": [
    "all_files = glob.glob(path + \"/*.gz\")\n",
    "li = []\n",
    "for filename in all_files:\n",
    "    df = pd.read_csv(filename,compression='infer')\n",
    "    li.append(df)\n",
    "data = pd.concat(li,axis=0,ignore_index=True)"
   ]
  },
  {
   "cell_type": "code",
   "execution_count": null,
   "metadata": {},
   "outputs": [],
   "source": [
    "test = list(data['user_id'].head(10000).copy().values)"
   ]
  },
  {
   "cell_type": "code",
   "execution_count": null,
   "metadata": {},
   "outputs": [],
   "source": [
    "import numpy as np\n",
    "path1 = os.getcwd() \n",
    "np.savetxt(path1 + \"\\\\test.txt\",test,fmt='%d')"
   ]
  },
  {
   "cell_type": "code",
   "execution_count": null,
   "metadata": {},
   "outputs": [],
   "source": [
    "path = os.getcwd() + \"\\\\BLM_test\\\\\"\n",
    "all_files = glob.glob(path + \"/*.gz\")\n",
    "li = []\n",
    "for filename in all_files:\n",
    "    df = pd.read_json(filename,compression='infer',lines=True)\n",
    "    li.append(df)\n",
    "data_1 = pd.concat(li,axis=0,ignore_index=True)"
   ]
  }
 ],
 "metadata": {
  "kernelspec": {
   "display_name": "Python 3",
   "language": "python",
   "name": "python3"
  },
  "language_info": {
   "codemirror_mode": {
    "name": "ipython",
    "version": 3
   },
   "file_extension": ".py",
   "mimetype": "text/x-python",
   "name": "python",
   "nbconvert_exporter": "python",
   "pygments_lexer": "ipython3",
   "version": "3.7.9"
  }
 },
 "nbformat": 4,
 "nbformat_minor": 4
}
