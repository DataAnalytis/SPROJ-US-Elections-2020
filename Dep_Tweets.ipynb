{
 "cells": [
  {
   "cell_type": "code",
   "execution_count": 1,
   "metadata": {},
   "outputs": [],
   "source": [
    "import twint # does not work because of user end point change\n",
    "import GetOldTweets3 as got # does not work becuase of user end point change\n",
    "import tweepy\n",
    "import time\n",
    "import pandas as pd\n",
    "import numpy as np"
   ]
  },
  {
   "cell_type": "code",
   "execution_count": 35,
   "metadata": {},
   "outputs": [],
   "source": [
    "consumer_key = \"LYMRrbrreVBZFi4ZAn2SJIEkv\"\n",
    "consumer_secret = \"i9mtkqF8CaTmiD4uxmhBTSHL52F2WBYuOHwwyFEcd1qFHkQkeI\"\n",
    "\n",
    "access_key = \"1226196644154236929-7s6G14zO6aNKmZdFPNpRGLzko1V2dz\"\n",
    "access_secret =  \"yReh0VefDCF1GXLJcZ7S7kD0eGGkuuxixuJpXkKKLMKZD\"\n",
    "\n",
    "def get_tweets(): \n",
    "          \n",
    "        # Authorization to consumer key and consumer secret \n",
    "        auth = tweepy.OAuthHandler(consumer_key, consumer_secret) \n",
    "  \n",
    "        # Access to user's access key and access secret \n",
    "        auth.set_access_token(access_key, access_secret) \n",
    "  \n",
    "        # Calling api \n",
    "        api = tweepy.API(auth) \n",
    "          \n",
    "        text_query = 'depression diagnosed'\n",
    "    \n",
    "        tweets_df = 0\n",
    "        \n",
    "        try:\n",
    "            #Creation of query method using parameters\n",
    "            tweets = tweepy.Cursor(api.search, q=text_query,count = 100,tweet_mode='extended').items()\n",
    "\n",
    "            # Pulling information from tweets iterable object\n",
    "            tweets_list = [[tweet.created_at, tweet.id, tweet.full_text] for tweet in tweets]\n",
    "\n",
    "            # Creation of dataframe from tweets list\n",
    "            # Add or remove columns as you remove tweet information\n",
    "            tweets_df = pd.DataFrame(tweets_list)\n",
    "        except BaseException as e:\n",
    "            print('failed on_status,',str(e))\n",
    "            time.sleep(3)\n",
    "            \n",
    "        return tweets_df\n",
    "\n",
    "data = get_tweets()"
   ]
  },
  {
   "cell_type": "code",
   "execution_count": 36,
   "metadata": {},
   "outputs": [
    {
     "data": {
      "text/plain": [
       "2027"
      ]
     },
     "execution_count": 36,
     "metadata": {},
     "output_type": "execute_result"
    }
   ],
   "source": [
    "len(data)"
   ]
  },
  {
   "cell_type": "code",
   "execution_count": 37,
   "metadata": {},
   "outputs": [
    {
     "name": "stderr",
     "output_type": "stream",
     "text": [
      "C:\\Users\\humza\\Anaconda3\\lib\\site-packages\\xlsxwriter\\worksheet.py:931: UserWarning: Ignoring URL 'https://t.co/NnVTGC218U\n",
      "%22The%20disease,%20originally%20called%20punch-drunk%20syndrome%20to%20describe%20the%20plight%20of%20ex-boxers,%20can%20often%20lead%20to%20depression%20&amp;%20other%20behavioural%20disturbances%20in%20younger%20people.%22\n",
      "\n",
      "%22.It%20can%20only%20be%20diagnosed%20by%20examination%20of%20the%20brain%20after%20death.%22%20' with link or location/anchor > 255 characters since it exceeds Excel's limit for URLS\n",
      "  force_unicode(url))\n",
      "C:\\Users\\humza\\Anaconda3\\lib\\site-packages\\xlsxwriter\\worksheet.py:931: UserWarning: Ignoring URL 'https://t.co/vV7v250rFE%20like%20I%20said%20suddenly%20autistic%20in%2050s%20with%20depression%20and%20social%20awkwardness%20.....does%20not%20a%20diagnosis%20make%20.%20I%20find%20it%20sickeningly%20laughable%20that%20people%20%22suddenly%20%22%20realise%20in%20adulthood%20with%20no%20other%20traits%20except%20the%20above%20.%20https://t.co/nBYXENaJqs' with link or location/anchor > 255 characters since it exceeds Excel's limit for URLS\n",
      "  force_unicode(url))\n"
     ]
    }
   ],
   "source": [
    "data = data.sample(frac=1).reset_index(drop=True)\n",
    "data.columns = ['created_at','id','text']\n",
    "data.to_excel('depression_diagnosed.xlsx')"
   ]
  },
  {
   "cell_type": "code",
   "execution_count": 9,
   "metadata": {},
   "outputs": [
    {
     "name": "stdout",
     "output_type": "stream",
     "text": [
      "An error occured during an HTTP request: HTTP Error 404: Not Found\n",
      "Try to open in browser: https://twitter.com/search?q=mental%20health%20diagnosis%20since%3A2020-11-25&src=typd\n"
     ]
    },
    {
     "ename": "SystemExit",
     "evalue": "",
     "output_type": "error",
     "traceback": [
      "An exception has occurred, use %tb to see the full traceback.\n",
      "\u001b[1;31mSystemExit\u001b[0m\n"
     ]
    }
   ],
   "source": [
    "# GetOldTweetss3 \n",
    "'''\n",
    "tweetCriteria = got.manager.TweetCriteria().setMaxTweets(5)\\\n",
    "                                           .setSince(\"2020-11-25\")\\\n",
    "                                           .setQuerySearch(\"mental health diagnosis\")\\\n",
    "                                           .setTopTweets(True)\n",
    "\n",
    "    tweet_list = got.manager.TweetManager.getTweets(tweetCriteria)\n",
    "\n",
    "for tweet in tweet_list():\n",
    "    print(tweet.text)\n",
    "'''"
   ]
  },
  {
   "cell_type": "code",
   "execution_count": null,
   "metadata": {},
   "outputs": [],
   "source": [
    "# Twint\n",
    "'''\n",
    "def scrape_tweets(since, outfile):\n",
    "    c = twint.Config()\n",
    "    c.Search = \"mental health depression\" \n",
    "    c.Since = since\n",
    "    c.Store_csv = True\n",
    "    c.Output = outfile\n",
    "    c.Hide_output = True\n",
    "    c.Count = True\n",
    "    c.Limit = 10\n",
    "    c.Stats = True\n",
    "    twint.run.Search(c)\n",
    "    tlist = c.search_tweet_list\n",
    "    print(tlist)\n",
    "    \n",
    "scrape_tweets('2020-11-26 12:00:00', 'Depression_Tweets_Dataset.csv')\n",
    "\n",
    "'''"
   ]
  }
 ],
 "metadata": {
  "kernelspec": {
   "display_name": "Python 3",
   "language": "python",
   "name": "python3"
  },
  "language_info": {
   "codemirror_mode": {
    "name": "ipython",
    "version": 3
   },
   "file_extension": ".py",
   "mimetype": "text/x-python",
   "name": "python",
   "nbconvert_exporter": "python",
   "pygments_lexer": "ipython3",
   "version": "3.7.4"
  }
 },
 "nbformat": 4,
 "nbformat_minor": 2
}
